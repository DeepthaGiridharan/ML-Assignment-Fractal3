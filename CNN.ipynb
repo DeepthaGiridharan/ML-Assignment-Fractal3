{
  "nbformat": 4,
  "nbformat_minor": 0,
  "metadata": {
    "colab": {
      "provenance": []
    },
    "kernelspec": {
      "name": "python3",
      "display_name": "Python 3"
    },
    "language_info": {
      "name": "python"
    }
  },
  "cells": [
    {
      "cell_type": "code",
      "execution_count": 1,
      "metadata": {
        "id": "Crte50ZRKswR"
      },
      "outputs": [],
      "source": [
        "import numpy as np\n",
        "import tensorflow as tf\n",
        "from tensorflow import keras\n",
        "from keras.models import Sequential\n",
        "import pandas as pd\n",
        "from matplotlib import pyplot as plt\n",
        "%matplotlib inline\n",
        "import os\n",
        "import cv2\n",
        "from keras.layers import Dense, Conv2D, MaxPooling2D, Flatten,GlobalAveragePooling2D\n",
        "from PIL import Image\n",
        "from sklearn.preprocessing import LabelEncoder\n",
        "from sklearn.metrics import confusion_matrix, classification_report"
      ]
    },
    {
      "cell_type": "code",
      "source": [
        "from google.colab import drive\n",
        "drive.mount('/content/drive')"
      ],
      "metadata": {
        "colab": {
          "base_uri": "https://localhost:8080/"
        },
        "id": "OOYBqsedObWw",
        "outputId": "0fc3cc8b-e24a-4355-daa7-f448b3e8257d"
      },
      "execution_count": 2,
      "outputs": [
        {
          "output_type": "stream",
          "name": "stdout",
          "text": [
            "Mounted at /content/drive\n"
          ]
        }
      ]
    },
    {
      "cell_type": "code",
      "source": [
        "charttype=pd.read_csv('/content/drive/MyDrive/charts/charts/train_val.csv')\n",
        "charttype"
      ],
      "metadata": {
        "colab": {
          "base_uri": "https://localhost:8080/",
          "height": 423
        },
        "id": "MxlA3yTURnJc",
        "outputId": "f9b68ec7-2c76-4cec-8252-1d8dbb2f04a4"
      },
      "execution_count": 5,
      "outputs": [
        {
          "output_type": "execute_result",
          "data": {
            "text/plain": [
              "     image_index              type\n",
              "0              0  vbar_categorical\n",
              "1              1  vbar_categorical\n",
              "2              2  vbar_categorical\n",
              "3              3  vbar_categorical\n",
              "4              4  vbar_categorical\n",
              "..           ...               ...\n",
              "995          995          dot_line\n",
              "996          996          dot_line\n",
              "997          997          dot_line\n",
              "998          998          dot_line\n",
              "999          999          dot_line\n",
              "\n",
              "[1000 rows x 2 columns]"
            ],
            "text/html": [
              "\n",
              "  <div id=\"df-4face768-7c9b-4f88-b098-6fcaf274cd06\">\n",
              "    <div class=\"colab-df-container\">\n",
              "      <div>\n",
              "<style scoped>\n",
              "    .dataframe tbody tr th:only-of-type {\n",
              "        vertical-align: middle;\n",
              "    }\n",
              "\n",
              "    .dataframe tbody tr th {\n",
              "        vertical-align: top;\n",
              "    }\n",
              "\n",
              "    .dataframe thead th {\n",
              "        text-align: right;\n",
              "    }\n",
              "</style>\n",
              "<table border=\"1\" class=\"dataframe\">\n",
              "  <thead>\n",
              "    <tr style=\"text-align: right;\">\n",
              "      <th></th>\n",
              "      <th>image_index</th>\n",
              "      <th>type</th>\n",
              "    </tr>\n",
              "  </thead>\n",
              "  <tbody>\n",
              "    <tr>\n",
              "      <th>0</th>\n",
              "      <td>0</td>\n",
              "      <td>vbar_categorical</td>\n",
              "    </tr>\n",
              "    <tr>\n",
              "      <th>1</th>\n",
              "      <td>1</td>\n",
              "      <td>vbar_categorical</td>\n",
              "    </tr>\n",
              "    <tr>\n",
              "      <th>2</th>\n",
              "      <td>2</td>\n",
              "      <td>vbar_categorical</td>\n",
              "    </tr>\n",
              "    <tr>\n",
              "      <th>3</th>\n",
              "      <td>3</td>\n",
              "      <td>vbar_categorical</td>\n",
              "    </tr>\n",
              "    <tr>\n",
              "      <th>4</th>\n",
              "      <td>4</td>\n",
              "      <td>vbar_categorical</td>\n",
              "    </tr>\n",
              "    <tr>\n",
              "      <th>...</th>\n",
              "      <td>...</td>\n",
              "      <td>...</td>\n",
              "    </tr>\n",
              "    <tr>\n",
              "      <th>995</th>\n",
              "      <td>995</td>\n",
              "      <td>dot_line</td>\n",
              "    </tr>\n",
              "    <tr>\n",
              "      <th>996</th>\n",
              "      <td>996</td>\n",
              "      <td>dot_line</td>\n",
              "    </tr>\n",
              "    <tr>\n",
              "      <th>997</th>\n",
              "      <td>997</td>\n",
              "      <td>dot_line</td>\n",
              "    </tr>\n",
              "    <tr>\n",
              "      <th>998</th>\n",
              "      <td>998</td>\n",
              "      <td>dot_line</td>\n",
              "    </tr>\n",
              "    <tr>\n",
              "      <th>999</th>\n",
              "      <td>999</td>\n",
              "      <td>dot_line</td>\n",
              "    </tr>\n",
              "  </tbody>\n",
              "</table>\n",
              "<p>1000 rows × 2 columns</p>\n",
              "</div>\n",
              "      <button class=\"colab-df-convert\" onclick=\"convertToInteractive('df-4face768-7c9b-4f88-b098-6fcaf274cd06')\"\n",
              "              title=\"Convert this dataframe to an interactive table.\"\n",
              "              style=\"display:none;\">\n",
              "        \n",
              "  <svg xmlns=\"http://www.w3.org/2000/svg\" height=\"24px\"viewBox=\"0 0 24 24\"\n",
              "       width=\"24px\">\n",
              "    <path d=\"M0 0h24v24H0V0z\" fill=\"none\"/>\n",
              "    <path d=\"M18.56 5.44l.94 2.06.94-2.06 2.06-.94-2.06-.94-.94-2.06-.94 2.06-2.06.94zm-11 1L8.5 8.5l.94-2.06 2.06-.94-2.06-.94L8.5 2.5l-.94 2.06-2.06.94zm10 10l.94 2.06.94-2.06 2.06-.94-2.06-.94-.94-2.06-.94 2.06-2.06.94z\"/><path d=\"M17.41 7.96l-1.37-1.37c-.4-.4-.92-.59-1.43-.59-.52 0-1.04.2-1.43.59L10.3 9.45l-7.72 7.72c-.78.78-.78 2.05 0 2.83L4 21.41c.39.39.9.59 1.41.59.51 0 1.02-.2 1.41-.59l7.78-7.78 2.81-2.81c.8-.78.8-2.07 0-2.86zM5.41 20L4 18.59l7.72-7.72 1.47 1.35L5.41 20z\"/>\n",
              "  </svg>\n",
              "      </button>\n",
              "      \n",
              "  <style>\n",
              "    .colab-df-container {\n",
              "      display:flex;\n",
              "      flex-wrap:wrap;\n",
              "      gap: 12px;\n",
              "    }\n",
              "\n",
              "    .colab-df-convert {\n",
              "      background-color: #E8F0FE;\n",
              "      border: none;\n",
              "      border-radius: 50%;\n",
              "      cursor: pointer;\n",
              "      display: none;\n",
              "      fill: #1967D2;\n",
              "      height: 32px;\n",
              "      padding: 0 0 0 0;\n",
              "      width: 32px;\n",
              "    }\n",
              "\n",
              "    .colab-df-convert:hover {\n",
              "      background-color: #E2EBFA;\n",
              "      box-shadow: 0px 1px 2px rgba(60, 64, 67, 0.3), 0px 1px 3px 1px rgba(60, 64, 67, 0.15);\n",
              "      fill: #174EA6;\n",
              "    }\n",
              "\n",
              "    [theme=dark] .colab-df-convert {\n",
              "      background-color: #3B4455;\n",
              "      fill: #D2E3FC;\n",
              "    }\n",
              "\n",
              "    [theme=dark] .colab-df-convert:hover {\n",
              "      background-color: #434B5C;\n",
              "      box-shadow: 0px 1px 3px 1px rgba(0, 0, 0, 0.15);\n",
              "      filter: drop-shadow(0px 1px 2px rgba(0, 0, 0, 0.3));\n",
              "      fill: #FFFFFF;\n",
              "    }\n",
              "  </style>\n",
              "\n",
              "      <script>\n",
              "        const buttonEl =\n",
              "          document.querySelector('#df-4face768-7c9b-4f88-b098-6fcaf274cd06 button.colab-df-convert');\n",
              "        buttonEl.style.display =\n",
              "          google.colab.kernel.accessAllowed ? 'block' : 'none';\n",
              "\n",
              "        async function convertToInteractive(key) {\n",
              "          const element = document.querySelector('#df-4face768-7c9b-4f88-b098-6fcaf274cd06');\n",
              "          const dataTable =\n",
              "            await google.colab.kernel.invokeFunction('convertToInteractive',\n",
              "                                                     [key], {});\n",
              "          if (!dataTable) return;\n",
              "\n",
              "          const docLinkHtml = 'Like what you see? Visit the ' +\n",
              "            '<a target=\"_blank\" href=https://colab.research.google.com/notebooks/data_table.ipynb>data table notebook</a>'\n",
              "            + ' to learn more about interactive tables.';\n",
              "          element.innerHTML = '';\n",
              "          dataTable['output_type'] = 'display_data';\n",
              "          await google.colab.output.renderOutput(dataTable, element);\n",
              "          const docLink = document.createElement('div');\n",
              "          docLink.innerHTML = docLinkHtml;\n",
              "          element.appendChild(docLink);\n",
              "        }\n",
              "      </script>\n",
              "    </div>\n",
              "  </div>\n",
              "  "
            ]
          },
          "metadata": {},
          "execution_count": 5
        }
      ]
    },
    {
      "cell_type": "code",
      "source": [
        "charttype.loc[0,\"type\"]"
      ],
      "metadata": {
        "colab": {
          "base_uri": "https://localhost:8080/",
          "height": 36
        },
        "id": "uckGEbwrUzV4",
        "outputId": "ed89ce00-0543-42e5-80dc-3fee3e152496"
      },
      "execution_count": 6,
      "outputs": [
        {
          "output_type": "execute_result",
          "data": {
            "text/plain": [
              "'vbar_categorical'"
            ],
            "application/vnd.google.colaboratory.intrinsic+json": {
              "type": "string"
            }
          },
          "metadata": {},
          "execution_count": 6
        }
      ]
    },
    {
      "cell_type": "code",
      "source": [
        "from PIL import Image\n",
        "import os\n",
        "\n",
        "main_path = '/content/drive/MyDrive/charts/charts/train_val'\n",
        "\n",
        "chart = []\n",
        "type=[]\n",
        "for file in os.listdir(main_path):\n",
        "  path=os.path.join(main_path,file)\n",
        "  if path.endswith(('.png')):\n",
        "      img = Image.open(path)\n",
        "      img_to_tensor = tf.convert_to_tensor(img)\n",
        "      chart.append(img_to_tensor)\n",
        "      index=int(os.path.splitext(file)[0])\n",
        "      types=charttype.loc[index,\"type\"]\n",
        "      type.append(types)\n",
        "\n",
        "main_path2 = '/content/drive/MyDrive/charts/charts/test'\n",
        "\n",
        "\n",
        "for file in os.listdir(main_path2):\n",
        "  path=os.path.join(main_path2,file)\n",
        "  if path.endswith(('.png')):\n",
        "      img = Image.open(path)\n",
        "      img_to_tensor = tf.convert_to_tensor(img)\n",
        "      chart.append(img_to_tensor)\n",
        "      index=int(os.path.splitext(file)[0])\n",
        "      types=charttype.loc[index,\"type\"]\n",
        "      type.append(types)\n",
        "chart=np.array(chart)\n",
        "type=np.array(type)\n",
        "chart\n",
        "type"
      ],
      "metadata": {
        "colab": {
          "base_uri": "https://localhost:8080/"
        },
        "id": "5W_HYM5SSEdK",
        "outputId": "6bb1df9e-39b6-471a-c216-bc6983844e86"
      },
      "execution_count": 10,
      "outputs": [
        {
          "output_type": "execute_result",
          "data": {
            "text/plain": [
              "array(['vbar_categorical', 'vbar_categorical', 'vbar_categorical', ...,\n",
              "       'vbar_categorical', 'vbar_categorical', 'vbar_categorical'],\n",
              "      dtype='<U16')"
            ]
          },
          "metadata": {},
          "execution_count": 10
        }
      ]
    },
    {
      "cell_type": "code",
      "source": [
        "print(type[0])\n",
        "plt.matshow(chart[0])"
      ],
      "metadata": {
        "colab": {
          "base_uri": "https://localhost:8080/",
          "height": 472
        },
        "id": "_6iB7Ms2Vg25",
        "outputId": "cd9bfc17-7e5b-4e1a-d65c-2d994d5ebb23"
      },
      "execution_count": 15,
      "outputs": [
        {
          "output_type": "stream",
          "name": "stdout",
          "text": [
            "vbar_categorical\n"
          ]
        },
        {
          "output_type": "execute_result",
          "data": {
            "text/plain": [
              "<matplotlib.image.AxesImage at 0x7fe72a48e470>"
            ]
          },
          "metadata": {},
          "execution_count": 15
        },
        {
          "output_type": "display_data",
          "data": {
            "text/plain": [
              "<Figure size 480x480 with 1 Axes>"
            ],
            "image/png": "[encoded data removed]"
          },
          "metadata": {}
        }
      ]
    },
    {
      "cell_type": "code",
      "source": [
        "chart_types = ['line', 'dot_line', 'hbar_categorical', 'vbar_categorical', 'pie']\n",
        "chart_types_map = {'line': 0, 'dot_line': 1, 'hbar_categorical': 2, 'vbar_categorical': 3, 'pie': 4}\n",
        "type_value= np.array([chart_types_map[ctype] for ctype in type])"
      ],
      "metadata": {
        "id": "wHLyug4ec5tP"
      },
      "execution_count": 24,
      "outputs": []
    },
    {
      "cell_type": "code",
      "source": [
        "np.save('x.npy', chart)\n",
        "np.save('y.npy', type_value)\n",
        "x = np.load('x.npy')\n",
        "y = np.load('y.npy') \n"
      ],
      "metadata": {
        "id": "GsKFezbOZcRd"
      },
      "execution_count": 25,
      "outputs": []
    },
    {
      "cell_type": "code",
      "source": [
        "from sklearn.model_selection import train_test_split\n",
        "x_train, x_test, y_train, y_test = train_test_split(x, y, test_size=0.2, random_state=42)\n"
      ],
      "metadata": {
        "id": "5QCd4bGxYzIg"
      },
      "execution_count": 26,
      "outputs": []
    },
    {
      "cell_type": "code",
      "source": [
        "print(x_test.shape)\n",
        "print(x_train.shape)\n",
        "print(y_train.shape)\n",
        "print(y_test.shape)"
      ],
      "metadata": {
        "colab": {
          "base_uri": "https://localhost:8080/"
        },
        "id": "SPm6sSZgafG8",
        "outputId": "5e9d7bed-d958-44be-fafc-9623626e65e6"
      },
      "execution_count": 30,
      "outputs": [
        {
          "output_type": "stream",
          "name": "stdout",
          "text": [
            "(210, 128, 128, 4)\n",
            "(840, 128, 128, 4)\n",
            "(840,)\n",
            "(210,)\n"
          ]
        }
      ]
    },
    {
      "cell_type": "code",
      "source": [
        "cnn_model = Sequential([\n",
        " Conv2D(filters=16 ,kernel_size=(3,3), activation='relu', input_shape=(128,128,4)),\n",
        " MaxPooling2D(pool_size=(2,2)),\n",
        " Conv2D(32, (3,3), activation='relu'),\n",
        " MaxPooling2D(pool_size=(2,2)),\n",
        " Conv2D(64, (3,3), activation='relu'),\n",
        " MaxPooling2D(pool_size=(2,2)),\n",
        " Flatten(),\n",
        " Dense(128, activation='relu'),\n",
        " Dense(5, activation='softmax')\n",
        "])\n",
        "\n",
        "cnn_model.compile(optimizer='adam', loss='sparse_categorical_crossentropy', metrics=['accuracy'])\n",
        "\n",
        "cnn_model.fit(x_train, y_train, batch_size=1000, epochs=50,validation_data=(x_test, y_test))"
      ],
      "metadata": {
        "colab": {
          "base_uri": "https://localhost:8080/"
        },
        "id": "hsjHUs1LX_6A",
        "outputId": "3de13a35-a298-4f9e-926f-73479c0b3565"
      },
      "execution_count": 34,
      "outputs": [
        {
          "output_type": "stream",
          "name": "stdout",
          "text": [
            "Epoch 1/50\n",
            "1/1 [==============================] - 18s 18s/step - loss: 47.2018 - accuracy: 0.2190 - val_loss: 571.4034 - val_accuracy: 0.1667\n",
            "Epoch 2/50\n",
            "1/1 [==============================] - 17s 17s/step - loss: 499.7501 - accuracy: 0.1964 - val_loss: 442.2954 - val_accuracy: 0.1857\n",
            "Epoch 3/50\n",
            "1/1 [==============================] - 17s 17s/step - loss: 394.2861 - accuracy: 0.1917 - val_loss: 354.0937 - val_accuracy: 0.1714\n",
            "Epoch 4/50\n",
            "1/1 [==============================] - 18s 18s/step - loss: 325.5613 - accuracy: 0.1952 - val_loss: 213.0350 - val_accuracy: 0.1905\n",
            "Epoch 5/50\n",
            "1/1 [==============================] - 17s 17s/step - loss: 199.2705 - accuracy: 0.1905 - val_loss: 110.6017 - val_accuracy: 0.1905\n",
            "Epoch 6/50\n",
            "1/1 [==============================] - 18s 18s/step - loss: 103.8338 - accuracy: 0.1905 - val_loss: 48.0865 - val_accuracy: 0.1714\n",
            "Epoch 7/50\n",
            "1/1 [==============================] - 19s 19s/step - loss: 45.0876 - accuracy: 0.1952 - val_loss: 11.5482 - val_accuracy: 0.2286\n",
            "Epoch 8/50\n",
            "1/1 [==============================] - 17s 17s/step - loss: 10.3377 - accuracy: 0.3012 - val_loss: 9.8858 - val_accuracy: 0.3762\n",
            "Epoch 9/50\n",
            "1/1 [==============================] - 17s 17s/step - loss: 10.2743 - accuracy: 0.3631 - val_loss: 5.8639 - val_accuracy: 0.4286\n",
            "Epoch 10/50\n",
            "1/1 [==============================] - 17s 17s/step - loss: 5.8297 - accuracy: 0.4929 - val_loss: 4.2641 - val_accuracy: 0.3667\n",
            "Epoch 11/50\n",
            "1/1 [==============================] - 18s 18s/step - loss: 3.7855 - accuracy: 0.4310 - val_loss: 2.7520 - val_accuracy: 0.4095\n",
            "Epoch 12/50\n",
            "1/1 [==============================] - 17s 17s/step - loss: 2.3736 - accuracy: 0.4548 - val_loss: 1.8413 - val_accuracy: 0.4524\n",
            "Epoch 13/50\n",
            "1/1 [==============================] - 16s 16s/step - loss: 1.5869 - accuracy: 0.5024 - val_loss: 1.3614 - val_accuracy: 0.4810\n",
            "Epoch 14/50\n",
            "1/1 [==============================] - 17s 17s/step - loss: 1.1717 - accuracy: 0.5321 - val_loss: 1.1185 - val_accuracy: 0.4857\n",
            "Epoch 15/50\n",
            "1/1 [==============================] - 17s 17s/step - loss: 0.9595 - accuracy: 0.5464 - val_loss: 0.9628 - val_accuracy: 0.6381\n",
            "Epoch 16/50\n",
            "1/1 [==============================] - 17s 17s/step - loss: 0.7709 - accuracy: 0.7000 - val_loss: 0.8822 - val_accuracy: 0.6571\n",
            "Epoch 17/50\n",
            "1/1 [==============================] - 17s 17s/step - loss: 0.6541 - accuracy: 0.7321 - val_loss: 0.8775 - val_accuracy: 0.7000\n",
            "Epoch 18/50\n",
            "1/1 [==============================] - 19s 19s/step - loss: 0.5949 - accuracy: 0.7440 - val_loss: 0.8832 - val_accuracy: 0.7286\n",
            "Epoch 19/50\n",
            "1/1 [==============================] - 19s 19s/step - loss: 0.5444 - accuracy: 0.7643 - val_loss: 0.8610 - val_accuracy: 0.7095\n",
            "Epoch 20/50\n",
            "1/1 [==============================] - 17s 17s/step - loss: 0.4916 - accuracy: 0.7726 - val_loss: 0.7908 - val_accuracy: 0.7095\n",
            "Epoch 21/50\n",
            "1/1 [==============================] - 16s 16s/step - loss: 0.4359 - accuracy: 0.7929 - val_loss: 0.8181 - val_accuracy: 0.7143\n",
            "Epoch 22/50\n",
            "1/1 [==============================] - 17s 17s/step - loss: 0.4245 - accuracy: 0.7714 - val_loss: 0.8061 - val_accuracy: 0.7190\n",
            "Epoch 23/50\n",
            "1/1 [==============================] - 16s 16s/step - loss: 0.3893 - accuracy: 0.8024 - val_loss: 0.8181 - val_accuracy: 0.7714\n",
            "Epoch 24/50\n",
            "1/1 [==============================] - 17s 17s/step - loss: 0.3569 - accuracy: 0.8286 - val_loss: 0.9262 - val_accuracy: 0.8762\n",
            "Epoch 25/50\n",
            "1/1 [==============================] - 17s 17s/step - loss: 0.3691 - accuracy: 0.9131 - val_loss: 0.9799 - val_accuracy: 0.7143\n",
            "Epoch 26/50\n",
            "1/1 [==============================] - 17s 17s/step - loss: 0.3777 - accuracy: 0.7881 - val_loss: 0.8540 - val_accuracy: 0.7524\n",
            "Epoch 27/50\n",
            "1/1 [==============================] - 18s 18s/step - loss: 0.3183 - accuracy: 0.8167 - val_loss: 0.8116 - val_accuracy: 0.8524\n",
            "Epoch 28/50\n",
            "1/1 [==============================] - 18s 18s/step - loss: 0.2886 - accuracy: 0.9179 - val_loss: 0.8577 - val_accuracy: 0.8143\n",
            "Epoch 29/50\n",
            "1/1 [==============================] - 16s 16s/step - loss: 0.2962 - accuracy: 0.8786 - val_loss: 1.4309 - val_accuracy: 0.7238\n",
            "Epoch 30/50\n",
            "1/1 [==============================] - 17s 17s/step - loss: 0.7052 - accuracy: 0.7786 - val_loss: 0.8803 - val_accuracy: 0.8048\n",
            "Epoch 31/50\n",
            "1/1 [==============================] - 17s 17s/step - loss: 0.3046 - accuracy: 0.8560 - val_loss: 0.8381 - val_accuracy: 0.8476\n",
            "Epoch 32/50\n",
            "1/1 [==============================] - 20s 20s/step - loss: 0.2754 - accuracy: 0.9024 - val_loss: 0.9819 - val_accuracy: 0.7190\n",
            "Epoch 33/50\n",
            "1/1 [==============================] - 17s 17s/step - loss: 0.3707 - accuracy: 0.7929 - val_loss: 0.9121 - val_accuracy: 0.8810\n",
            "Epoch 34/50\n",
            "1/1 [==============================] - 26s 26s/step - loss: 0.2299 - accuracy: 0.9262 - val_loss: 1.2960 - val_accuracy: 0.7238\n",
            "Epoch 35/50\n",
            "1/1 [==============================] - 17s 17s/step - loss: 0.3866 - accuracy: 0.7917 - val_loss: 1.1419 - val_accuracy: 0.7476\n",
            "Epoch 36/50\n",
            "1/1 [==============================] - 17s 17s/step - loss: 0.4166 - accuracy: 0.8036 - val_loss: 1.0900 - val_accuracy: 0.7619\n",
            "Epoch 37/50\n",
            "1/1 [==============================] - 17s 17s/step - loss: 0.3645 - accuracy: 0.8262 - val_loss: 1.0026 - val_accuracy: 0.8429\n",
            "Epoch 38/50\n",
            "1/1 [==============================] - 18s 18s/step - loss: 0.2619 - accuracy: 0.8952 - val_loss: 0.9950 - val_accuracy: 0.9048\n",
            "Epoch 39/50\n",
            "1/1 [==============================] - 18s 18s/step - loss: 0.2315 - accuracy: 0.9524 - val_loss: 1.0584 - val_accuracy: 0.8286\n",
            "Epoch 40/50\n",
            "1/1 [==============================] - 18s 18s/step - loss: 0.2734 - accuracy: 0.8714 - val_loss: 1.1369 - val_accuracy: 0.8048\n",
            "Epoch 41/50\n",
            "1/1 [==============================] - 16s 16s/step - loss: 0.2835 - accuracy: 0.8571 - val_loss: 1.1770 - val_accuracy: 0.8524\n",
            "Epoch 42/50\n",
            "1/1 [==============================] - 16s 16s/step - loss: 0.2475 - accuracy: 0.8976 - val_loss: 1.1989 - val_accuracy: 0.8810\n",
            "Epoch 43/50\n",
            "1/1 [==============================] - 17s 17s/step - loss: 0.2321 - accuracy: 0.9345 - val_loss: 1.2004 - val_accuracy: 0.9000\n",
            "Epoch 44/50\n",
            "1/1 [==============================] - 19s 19s/step - loss: 0.2318 - accuracy: 0.9512 - val_loss: 1.1921 - val_accuracy: 0.8905\n",
            "Epoch 45/50\n",
            "1/1 [==============================] - 17s 17s/step - loss: 0.2258 - accuracy: 0.9452 - val_loss: 1.2424 - val_accuracy: 0.8619\n",
            "Epoch 46/50\n",
            "1/1 [==============================] - 16s 16s/step - loss: 0.2334 - accuracy: 0.9190 - val_loss: 1.0789 - val_accuracy: 0.8905\n",
            "Epoch 47/50\n",
            "1/1 [==============================] - 18s 18s/step - loss: 0.2279 - accuracy: 0.9250 - val_loss: 1.0255 - val_accuracy: 0.8714\n",
            "Epoch 48/50\n",
            "1/1 [==============================] - 17s 17s/step - loss: 0.2365 - accuracy: 0.9179 - val_loss: 1.0206 - val_accuracy: 0.8810\n",
            "Epoch 49/50\n",
            "1/1 [==============================] - 16s 16s/step - loss: 0.2255 - accuracy: 0.9274 - val_loss: 1.0531 - val_accuracy: 0.8905\n",
            "Epoch 50/50\n",
            "1/1 [==============================] - 16s 16s/step - loss: 0.2049 - accuracy: 0.9429 - val_loss: 1.1200 - val_accuracy: 0.8857\n"
          ]
        },
        {
          "output_type": "execute_result",
          "data": {
            "text/plain": [
              "<keras.callbacks.History at 0x7fe6eb622fe0>"
            ]
          },
          "metadata": {},
          "execution_count": 34
        }
      ]
    },
    {
      "cell_type": "code",
      "source": [
        "cnn_model.evaluate(x_test,y_test)"
      ],
      "metadata": {
        "colab": {
          "base_uri": "https://localhost:8080/"
        },
        "id": "F7W18Ybaj7oo",
        "outputId": "fe8ab557-779f-44f4-b06a-1f5a473a9490"
      },
      "execution_count": 35,
      "outputs": [
        {
          "output_type": "stream",
          "name": "stdout",
          "text": [
            "7/7 [==============================] - 1s 132ms/step - loss: 1.1200 - accuracy: 0.8857\n"
          ]
        },
        {
          "output_type": "execute_result",
          "data": {
            "text/plain": [
              "[1.1199644804000854, 0.8857142925262451]"
            ]
          },
          "metadata": {},
          "execution_count": 35
        }
      ]
    },
    {
      "cell_type": "code",
      "source": [
        "print(chart_types[y_test[28]])\n",
        "plt.matshow(x_test[28])"
      ],
      "metadata": {
        "colab": {
          "base_uri": "https://localhost:8080/",
          "height": 472
        },
        "id": "o1TdLxLMkXHx",
        "outputId": "5c5e2b7c-b57d-48eb-cd5a-5777097d2801"
      },
      "execution_count": 41,
      "outputs": [
        {
          "output_type": "stream",
          "name": "stdout",
          "text": [
            "line\n"
          ]
        },
        {
          "output_type": "execute_result",
          "data": {
            "text/plain": [
              "<matplotlib.image.AxesImage at 0x7fe6fad7ff40>"
            ]
          },
          "metadata": {},
          "execution_count": 41
        },
        {
          "output_type": "display_data",
          "data": {
            "text/plain": [
              "<Figure size 480x480 with 1 Axes>"
            ],
            "image/png": "[encoded data removed]"
          },
          "metadata": {}
        }
      ]
    },
    {
      "cell_type": "code",
      "source": [
        "y_predicted = cnn_model.predict(x_test)\n"
      ],
      "metadata": {
        "colab": {
          "base_uri": "https://localhost:8080/"
        },
        "id": "5IrlidrskJwo",
        "outputId": "379d9f44-3f2b-4486-d69d-b324cb3e8b60"
      },
      "execution_count": 36,
      "outputs": [
        {
          "output_type": "stream",
          "name": "stdout",
          "text": [
            "7/7 [==============================] - 2s 240ms/step\n"
          ]
        }
      ]
    },
    {
      "cell_type": "code",
      "source": [
        "y_predicted_values=[]\n",
        "for i in y_predicted:\n",
        "  y_predicted_values.append(np.argmax(i))\n",
        "y_predicted_values"
      ],
      "metadata": {
        "colab": {
          "base_uri": "https://localhost:8080/"
        },
        "id": "dcqEM59ck22T",
        "outputId": "30cf33b9-f916-491b-9496-e01cc770a40b"
      },
      "execution_count": 39,
      "outputs": [
        {
          "output_type": "execute_result",
          "data": {
            "text/plain": [
              "[0,\n",
              " 4,\n",
              " 0,\n",
              " 0,\n",
              " 2,\n",
              " 0,\n",
              " 3,\n",
              " 3,\n",
              " 3,\n",
              " 4,\n",
              " 0,\n",
              " 4,\n",
              " 2,\n",
              " 3,\n",
              " 0,\n",
              " 3,\n",
              " 4,\n",
              " 0,\n",
              " 1,\n",
              " 4,\n",
              " 2,\n",
              " 1,\n",
              " 1,\n",
              " 1,\n",
              " 4,\n",
              " 3,\n",
              " 2,\n",
              " 3,\n",
              " 0,\n",
              " 2,\n",
              " 2,\n",
              " 0,\n",
              " 0,\n",
              " 1,\n",
              " 3,\n",
              " 3,\n",
              " 0,\n",
              " 2,\n",
              " 1,\n",
              " 2,\n",
              " 1,\n",
              " 4,\n",
              " 4,\n",
              " 4,\n",
              " 3,\n",
              " 2,\n",
              " 3,\n",
              " 0,\n",
              " 4,\n",
              " 1,\n",
              " 4,\n",
              " 2,\n",
              " 3,\n",
              " 1,\n",
              " 0,\n",
              " 4,\n",
              " 3,\n",
              " 2,\n",
              " 4,\n",
              " 3,\n",
              " 3,\n",
              " 0,\n",
              " 0,\n",
              " 4,\n",
              " 3,\n",
              " 1,\n",
              " 4,\n",
              " 1,\n",
              " 1,\n",
              " 0,\n",
              " 4,\n",
              " 1,\n",
              " 0,\n",
              " 1,\n",
              " 4,\n",
              " 2,\n",
              " 1,\n",
              " 2,\n",
              " 4,\n",
              " 0,\n",
              " 3,\n",
              " 1,\n",
              " 0,\n",
              " 2,\n",
              " 0,\n",
              " 2,\n",
              " 1,\n",
              " 1,\n",
              " 2,\n",
              " 3,\n",
              " 3,\n",
              " 4,\n",
              " 2,\n",
              " 2,\n",
              " 0,\n",
              " 1,\n",
              " 4,\n",
              " 4,\n",
              " 2,\n",
              " 0,\n",
              " 3,\n",
              " 3,\n",
              " 4,\n",
              " 1,\n",
              " 3,\n",
              " 3,\n",
              " 2,\n",
              " 3,\n",
              " 2,\n",
              " 1,\n",
              " 1,\n",
              " 3,\n",
              " 3,\n",
              " 2,\n",
              " 4,\n",
              " 3,\n",
              " 3,\n",
              " 4,\n",
              " 1,\n",
              " 1,\n",
              " 1,\n",
              " 1,\n",
              " 4,\n",
              " 0,\n",
              " 2,\n",
              " 3,\n",
              " 3,\n",
              " 2,\n",
              " 2,\n",
              " 1,\n",
              " 2,\n",
              " 3,\n",
              " 2,\n",
              " 3,\n",
              " 4,\n",
              " 4,\n",
              " 1,\n",
              " 1,\n",
              " 2,\n",
              " 1,\n",
              " 2,\n",
              " 3,\n",
              " 2,\n",
              " 3,\n",
              " 1,\n",
              " 3,\n",
              " 0,\n",
              " 0,\n",
              " 1,\n",
              " 1,\n",
              " 4,\n",
              " 3,\n",
              " 2,\n",
              " 1,\n",
              " 3,\n",
              " 1,\n",
              " 0,\n",
              " 4,\n",
              " 4,\n",
              " 0,\n",
              " 0,\n",
              " 4,\n",
              " 3,\n",
              " 0,\n",
              " 3,\n",
              " 1,\n",
              " 1,\n",
              " 2,\n",
              " 0,\n",
              " 1,\n",
              " 3,\n",
              " 0,\n",
              " 2,\n",
              " 4,\n",
              " 3,\n",
              " 4,\n",
              " 2,\n",
              " 2,\n",
              " 1,\n",
              " 2,\n",
              " 4,\n",
              " 4,\n",
              " 4,\n",
              " 3,\n",
              " 1,\n",
              " 2,\n",
              " 1,\n",
              " 1,\n",
              " 3,\n",
              " 2,\n",
              " 0,\n",
              " 3,\n",
              " 3,\n",
              " 2,\n",
              " 3,\n",
              " 0,\n",
              " 2,\n",
              " 2,\n",
              " 3,\n",
              " 3,\n",
              " 0,\n",
              " 3,\n",
              " 1,\n",
              " 0,\n",
              " 0,\n",
              " 4,\n",
              " 1,\n",
              " 3,\n",
              " 4,\n",
              " 2]"
            ]
          },
          "metadata": {},
          "execution_count": 39
        }
      ]
    },
    {
      "cell_type": "code",
      "source": [
        "print(chart_types[y_predicted_values[26]])\n",
        "plt.matshow(x_test[26])"
      ],
      "metadata": {
        "colab": {
          "base_uri": "https://localhost:8080/",
          "height": 472
        },
        "id": "zTErTzt9lBay",
        "outputId": "e93c4bfb-90d0-4b5f-f3ba-502da9f343fd"
      },
      "execution_count": 43,
      "outputs": [
        {
          "output_type": "stream",
          "name": "stdout",
          "text": [
            "hbar_categorical\n"
          ]
        },
        {
          "output_type": "execute_result",
          "data": {
            "text/plain": [
              "<matplotlib.image.AxesImage at 0x7fe6fae2b040>"
            ]
          },
          "metadata": {},
          "execution_count": 43
        },
        {
          "output_type": "display_data",
          "data": {
            "text/plain": [
              "<Figure size 480x480 with 1 Axes>"
            ],
            "image/png": "[encoded data removed]"
          },
          "metadata": {}
        }
      ]
    },
    {
      "cell_type": "code",
      "source": [
        "confusion_matrix=tf.math.confusion_matrix(labels=y_test,predictions=y_predicted_values)\n",
        "confusion_matrix"
      ],
      "metadata": {
        "colab": {
          "base_uri": "https://localhost:8080/"
        },
        "id": "dn3HtG1lmIws",
        "outputId": "5301d861-2453-4f2b-f8b3-80cd21f0f0d4"
      },
      "execution_count": 44,
      "outputs": [
        {
          "output_type": "execute_result",
          "data": {
            "text/plain": [
              "<tf.Tensor: shape=(5, 5), dtype=int32, numpy=\n",
              "array([[34,  6,  0,  0,  0],\n",
              "       [ 1, 35,  0,  0,  0],\n",
              "       [ 1,  0, 36,  2,  0],\n",
              "       [ 0,  3,  6, 47,  4],\n",
              "       [ 0,  0,  0,  1, 34]], dtype=int32)>"
            ]
          },
          "metadata": {},
          "execution_count": 44
        }
      ]
    },
    {
      "cell_type": "code",
      "source": [
        "print(classification_report(y_test,y_predicted_values))"
      ],
      "metadata": {
        "colab": {
          "base_uri": "https://localhost:8080/"
        },
        "id": "wWVKbXw5mRpq",
        "outputId": "ba284b40-2f4d-4dd1-85ff-a22bb0bda99b"
      },
      "execution_count": 45,
      "outputs": [
        {
          "output_type": "stream",
          "name": "stdout",
          "text": [
            "              precision    recall  f1-score   support\n",
            "\n",
            "           0       0.94      0.85      0.89        40\n",
            "           1       0.80      0.97      0.88        36\n",
            "           2       0.86      0.92      0.89        39\n",
            "           3       0.94      0.78      0.85        60\n",
            "           4       0.89      0.97      0.93        35\n",
            "\n",
            "    accuracy                           0.89       210\n",
            "   macro avg       0.89      0.90      0.89       210\n",
            "weighted avg       0.89      0.89      0.88       210\n",
            "\n"
          ]
        }
      ]
    }
  ]
}