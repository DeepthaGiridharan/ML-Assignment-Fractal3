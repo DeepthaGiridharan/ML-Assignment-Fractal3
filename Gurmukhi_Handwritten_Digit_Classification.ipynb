{
  "cells": [
    {
      "cell_type": "markdown",
      "metadata": {
        "id": "SGAGqmfijXXi"
      },
      "source": [
        "<h2 style=\"color:green\" align=\"center\">Implement Neural Network From Scratch for Gurmukhi Handwritten Digit Classification</h2>"
      ]
    },
    {
      "cell_type": "code",
      "execution_count": 70,
      "metadata": {
        "id": "DYClsvpAjXXl"
      },
      "outputs": [],
      "source": [
        "import numpy as np\n",
        "import tensorflow as tf\n",
        "from tensorflow import keras\n",
        "import pandas as pd\n",
        "from matplotlib import pyplot as plt\n",
        "%matplotlib inline\n",
        "from sklearn.metrics import confusion_matrix, classification_report"
      ]
    },
    {
      "cell_type": "code",
      "source": [
        "from google.colab import drive\n",
        "drive.mount('/content/drive')"
      ],
      "metadata": {
        "colab": {
          "base_uri": "https://localhost:8080/"
        },
        "id": "T_pVya1RmvKK",
        "outputId": "793a925b-ebbf-4e74-b1fa-e5d6b7885d38"
      },
      "execution_count": 2,
      "outputs": [
        {
          "output_type": "stream",
          "name": "stdout",
          "text": [
            "Mounted at /content/drive\n"
          ]
        }
      ]
    },
    {
      "cell_type": "code",
      "source": [
        "from PIL import Image\n",
        "import os\n",
        "\n",
        "main_path = '/content/drive/MyDrive/GurNum-20230430T101123Z-001/GurNum/train'\n",
        "\n",
        "images = []\n",
        "number=[]\n",
        "for num in range(10):\n",
        "  path=os.path.join(main_path,str(num))\n",
        "  for file in os.listdir(path):\n",
        "    num_path = os.path.join(path, file)\n",
        "    if num_path.endswith(('.tiff','.bmp')):\n",
        "      img = Image.open(num_path)\n",
        "      img_to_tensor = tf.convert_to_tensor(img)\n",
        "      images.append(img_to_tensor)\n",
        "      number.append(num)\n",
        "images=np.array(images)\n",
        "number=np.array(number)\n",
        "images\n",
        "number"
      ],
      "metadata": {
        "colab": {
          "base_uri": "https://localhost:8080/"
        },
        "id": "l6TO4YzLFLVr",
        "outputId": "f14e6656-c2f4-4555-ef3f-46d98a50a7c4"
      },
      "execution_count": 73,
      "outputs": [
        {
          "output_type": "execute_result",
          "data": {
            "text/plain": [
              "array([0, 0, 0, 0, 0, 0, 0, 0, 0, 0, 0, 0, 0, 0, 0, 0, 0, 0, 0, 0, 0, 0,\n",
              "       0, 0, 0, 0, 0, 0, 0, 0, 0, 0, 0, 0, 0, 0, 0, 0, 0, 0, 0, 0, 0, 0,\n",
              "       0, 0, 0, 0, 0, 0, 0, 0, 0, 0, 0, 0, 0, 0, 0, 0, 0, 0, 0, 0, 0, 0,\n",
              "       0, 0, 0, 0, 0, 0, 0, 0, 0, 0, 0, 0, 0, 0, 0, 0, 0, 0, 0, 0, 0, 0,\n",
              "       0, 0, 0, 0, 0, 0, 0, 0, 0, 0, 0, 0, 1, 1, 1, 1, 1, 1, 1, 1, 1, 1,\n",
              "       1, 1, 1, 1, 1, 1, 1, 1, 1, 1, 1, 1, 1, 1, 1, 1, 1, 1, 1, 1, 1, 1,\n",
              "       1, 1, 1, 1, 1, 1, 1, 1, 1, 1, 1, 1, 1, 1, 1, 1, 1, 1, 1, 1, 1, 1,\n",
              "       1, 1, 1, 1, 1, 1, 1, 1, 1, 1, 1, 1, 1, 1, 1, 1, 1, 1, 1, 1, 1, 1,\n",
              "       1, 1, 1, 1, 1, 1, 1, 1, 1, 1, 1, 1, 1, 1, 1, 1, 1, 1, 1, 1, 1, 1,\n",
              "       1, 1, 2, 2, 2, 2, 2, 2, 2, 2, 2, 2, 2, 2, 2, 2, 2, 2, 2, 2, 2, 2,\n",
              "       2, 2, 2, 2, 2, 2, 2, 2, 2, 2, 2, 2, 2, 2, 2, 2, 2, 2, 2, 2, 2, 2,\n",
              "       2, 2, 2, 2, 2, 2, 2, 2, 2, 2, 2, 2, 2, 2, 2, 2, 2, 2, 2, 2, 2, 2,\n",
              "       2, 2, 2, 2, 2, 2, 2, 2, 2, 2, 2, 2, 2, 2, 2, 2, 2, 2, 2, 2, 2, 2,\n",
              "       2, 2, 2, 2, 2, 2, 2, 2, 2, 2, 2, 2, 2, 2, 3, 3, 3, 3, 3, 3, 3, 3,\n",
              "       3, 3, 3, 3, 3, 3, 3, 3, 3, 3, 3, 3, 3, 3, 3, 3, 3, 3, 3, 3, 3, 3,\n",
              "       3, 3, 3, 3, 3, 3, 3, 3, 3, 3, 3, 3, 3, 3, 3, 3, 3, 3, 3, 3, 3, 3,\n",
              "       3, 3, 3, 3, 3, 3, 3, 3, 3, 3, 3, 3, 3, 3, 3, 3, 3, 3, 3, 3, 3, 3,\n",
              "       3, 3, 3, 3, 3, 3, 3, 3, 3, 3, 3, 3, 3, 3, 3, 3, 3, 3, 3, 3, 3, 3,\n",
              "       3, 3, 3, 3, 4, 4, 4, 4, 4, 4, 4, 4, 4, 4, 4, 4, 4, 4, 4, 4, 4, 4,\n",
              "       4, 4, 4, 4, 4, 4, 4, 4, 4, 4, 4, 4, 4, 4, 4, 4, 4, 4, 4, 4, 4, 4,\n",
              "       4, 4, 4, 4, 4, 4, 4, 4, 4, 4, 4, 4, 4, 4, 4, 4, 4, 4, 4, 4, 4, 4,\n",
              "       4, 4, 4, 4, 4, 4, 4, 4, 4, 4, 4, 4, 4, 4, 4, 4, 4, 4, 4, 4, 4, 4,\n",
              "       4, 4, 4, 4, 4, 4, 4, 4, 4, 4, 4, 4, 4, 4, 4, 4, 5, 5, 5, 5, 5, 5,\n",
              "       5, 5, 5, 5, 5, 5, 5, 5, 5, 5, 5, 5, 5, 5, 5, 5, 5, 5, 5, 5, 5, 5,\n",
              "       5, 5, 5, 5, 5, 5, 5, 5, 5, 5, 5, 5, 5, 5, 5, 5, 5, 5, 5, 5, 5, 5,\n",
              "       5, 5, 5, 5, 5, 5, 5, 5, 5, 5, 5, 5, 5, 5, 5, 5, 5, 5, 5, 5, 5, 5,\n",
              "       5, 5, 5, 5, 5, 5, 5, 5, 5, 5, 5, 5, 5, 5, 5, 5, 5, 5, 5, 5, 5, 5,\n",
              "       5, 5, 5, 5, 5, 5, 6, 6, 6, 6, 6, 6, 6, 6, 6, 6, 6, 6, 6, 6, 6, 6,\n",
              "       6, 6, 6, 6, 6, 6, 6, 6, 6, 6, 6, 6, 6, 6, 6, 6, 6, 6, 6, 6, 6, 6,\n",
              "       6, 6, 6, 6, 6, 6, 6, 6, 6, 6, 6, 6, 6, 6, 6, 6, 6, 6, 6, 6, 6, 6,\n",
              "       6, 6, 6, 6, 6, 6, 6, 6, 6, 6, 6, 6, 6, 6, 6, 6, 6, 6, 6, 6, 6, 6,\n",
              "       6, 6, 6, 6, 6, 6, 6, 6, 6, 6, 6, 6, 6, 6, 6, 6, 6, 6, 7, 7, 7, 7,\n",
              "       7, 7, 7, 7, 7, 7, 7, 7, 7, 7, 7, 7, 7, 7, 7, 7, 7, 7, 7, 7, 7, 7,\n",
              "       7, 7, 7, 7, 7, 7, 7, 7, 7, 7, 7, 7, 7, 7, 7, 7, 7, 7, 7, 7, 7, 7,\n",
              "       7, 7, 7, 7, 7, 7, 7, 7, 7, 7, 7, 7, 7, 7, 7, 7, 7, 7, 7, 7, 7, 7,\n",
              "       7, 7, 7, 7, 7, 7, 7, 7, 7, 7, 7, 7, 7, 7, 7, 7, 7, 7, 7, 7, 7, 7,\n",
              "       7, 7, 7, 7, 7, 7, 7, 7, 8, 8, 8, 8, 8, 8, 8, 8, 8, 8, 8, 8, 8, 8,\n",
              "       8, 8, 8, 8, 8, 8, 8, 8, 8, 8, 8, 8, 8, 8, 8, 8, 8, 8, 8, 8, 8, 8,\n",
              "       8, 8, 8, 8, 8, 8, 8, 8, 8, 8, 8, 8, 8, 8, 8, 8, 8, 8, 8, 8, 8, 8,\n",
              "       8, 8, 8, 8, 8, 8, 8, 8, 8, 8, 8, 8, 8, 8, 8, 8, 8, 8, 8, 8, 8, 8,\n",
              "       8, 8, 8, 8, 8, 8, 8, 8, 8, 8, 8, 8, 8, 8, 8, 8, 8, 8, 8, 8, 9, 9,\n",
              "       9, 9, 9, 9, 9, 9, 9, 9, 9, 9, 9, 9, 9, 9, 9, 9, 9, 9, 9, 9, 9, 9,\n",
              "       9, 9, 9, 9, 9, 9, 9, 9, 9, 9, 9, 9, 9, 9, 9, 9, 9, 9, 9, 9, 9, 9,\n",
              "       9, 9, 9, 9, 9, 9, 9, 9, 9, 9, 9, 9, 9, 9, 9, 9, 9, 9, 9, 9, 9, 9,\n",
              "       9, 9, 9, 9, 9, 9, 9, 9, 9, 9, 9, 9, 9, 9, 9, 9, 9, 9, 9, 9, 9, 9,\n",
              "       9, 9, 9, 9, 9, 9, 9, 9, 9, 9])"
            ]
          },
          "metadata": {},
          "execution_count": 73
        }
      ]
    },
    {
      "cell_type": "code",
      "source": [
        "from PIL import Image\n",
        "import os\n",
        "\n",
        "main_path = '/content/drive/MyDrive/GurNum-20230430T101123Z-001/GurNum/val'\n",
        "\n",
        "val_images = []\n",
        "val_number=[]\n",
        "for num in range(10):\n",
        "  path=os.path.join(main_path,str(num))\n",
        "  for file in os.listdir(path):\n",
        "    num_path = os.path.join(path, file)\n",
        "    if num_path.endswith(('.tiff','.bmp')):\n",
        "      img = Image.open(num_path)\n",
        "      img_to_tensor = tf.convert_to_tensor(img)\n",
        "      val_images.append(img_to_tensor)\n",
        "      val_number.append(num)\n",
        "val_images=np.array(val_images)\n",
        "val_number=np.array(val_number)\n",
        "val_images\n",
        "val_number"
      ],
      "metadata": {
        "colab": {
          "base_uri": "https://localhost:8080/"
        },
        "id": "rB1CVHtXb0ve",
        "outputId": "0ae1e717-6710-49b6-832c-de41a27ab873"
      },
      "execution_count": 74,
      "outputs": [
        {
          "output_type": "execute_result",
          "data": {
            "text/plain": [
              "array([0, 0, 0, 0, 0, 0, 0, 0, 0, 0, 0, 0, 0, 0, 0, 0, 0, 0, 1, 1, 1, 1,\n",
              "       1, 1, 1, 1, 1, 1, 1, 1, 1, 1, 1, 1, 2, 2, 2, 2, 2, 2, 2, 2, 2, 2,\n",
              "       2, 2, 2, 2, 2, 2, 2, 3, 3, 3, 3, 3, 3, 3, 3, 3, 3, 3, 3, 3, 3, 3,\n",
              "       3, 3, 4, 4, 4, 4, 4, 4, 4, 4, 4, 4, 4, 4, 4, 4, 4, 4, 4, 4, 5, 5,\n",
              "       5, 5, 5, 5, 5, 5, 5, 5, 5, 5, 5, 5, 5, 5, 5, 5, 6, 6, 6, 6, 6, 6,\n",
              "       6, 6, 6, 6, 6, 6, 6, 6, 6, 6, 6, 6, 7, 7, 7, 7, 7, 7, 7, 7, 7, 7,\n",
              "       7, 7, 7, 7, 7, 7, 7, 7, 8, 8, 8, 8, 8, 8, 8, 8, 8, 8, 8, 8, 8, 8,\n",
              "       8, 8, 8, 8, 9, 9, 9, 9, 9, 9, 9, 9, 9, 9, 9, 9, 9, 9, 9, 9, 9, 9,\n",
              "       9, 9])"
            ]
          },
          "metadata": {},
          "execution_count": 74
        }
      ]
    },
    {
      "cell_type": "code",
      "source": [
        "np.save('x_test.npy', val_images)\n",
        "np.save('y_test.npy', val_number)\n",
        "np.save('x_train.npy', images)\n",
        "np.save('y_train.npy', number)\n",
        "\n",
        "x_train = np.load('x_train.npy',allow_pickle=True)\n",
        "y_train = np.load('y_train.npy')\n",
        "x_test = np.load('x_test.npy',allow_pickle=True)\n",
        "y_test = np.load('y_test.npy')"
      ],
      "metadata": {
        "id": "tejV1aSO2Z9i"
      },
      "execution_count": 75,
      "outputs": []
    },
    {
      "cell_type": "code",
      "source": [
        "print(x_train[0].shape)\n",
        "plt.matshow(x_train[0])\n",
        "plt.matshow(x_train[250])\n",
        "print(y_train[0])\n",
        "print(y_train[250])\n"
      ],
      "metadata": {
        "colab": {
          "base_uri": "https://localhost:8080/",
          "height": 909
        },
        "id": "bAUn8Doc6Ghr",
        "outputId": "5a87b653-b9ca-4404-d176-fa9d45166dce"
      },
      "execution_count": 76,
      "outputs": [
        {
          "output_type": "stream",
          "name": "stdout",
          "text": [
            "(32, 32)\n",
            "0\n",
            "2\n"
          ]
        },
        {
          "output_type": "display_data",
          "data": {
            "text/plain": [
              "<Figure size 480x480 with 1 Axes>"
            ],
            "image/png": "[encoded data removed]"
          },
          "metadata": {}
        },
        {
          "output_type": "display_data",
          "data": {
            "text/plain": [
              "<Figure size 480x480 with 1 Axes>"
            ],
            "image/png": "[encoded data removed]"
          },
          "metadata": {}
        }
      ]
    },
    {
      "cell_type": "code",
      "source": [
        "model = keras.Sequential([\n",
        "keras.layers.Flatten(),keras.layers.Dense(10, input_shape=(1024,),activation = 'sigmoid')\n",
        "])\n",
        "model.compile(optimizer='adam',\n",
        "loss='sparse_categorical_crossentropy',\n",
        "metrics=['accuracy']\n",
        ")\n",
        "model.fit(x_train, y_train,epochs= 10, validation_data=(x_test, y_test))"
      ],
      "metadata": {
        "colab": {
          "base_uri": "https://localhost:8080/"
        },
        "id": "0FBdrO5CDHoN",
        "outputId": "60bfbf08-cbd7-4ab0-f4f6-777e893792d8"
      },
      "execution_count": 77,
      "outputs": [
        {
          "output_type": "stream",
          "name": "stdout",
          "text": [
            "Epoch 1/10\n",
            "32/32 [==============================] - 1s 8ms/step - loss: 128.1005 - accuracy: 0.4290 - val_loss: 76.1277 - val_accuracy: 0.5730\n",
            "Epoch 2/10\n",
            "32/32 [==============================] - 0s 3ms/step - loss: 19.5570 - accuracy: 0.8360 - val_loss: 37.1708 - val_accuracy: 0.7416\n",
            "Epoch 3/10\n",
            "32/32 [==============================] - 0s 3ms/step - loss: 13.5184 - accuracy: 0.8690 - val_loss: 35.8241 - val_accuracy: 0.7640\n",
            "Epoch 4/10\n",
            "32/32 [==============================] - 0s 3ms/step - loss: 8.6459 - accuracy: 0.9150 - val_loss: 29.2009 - val_accuracy: 0.7697\n",
            "Epoch 5/10\n",
            "32/32 [==============================] - 0s 3ms/step - loss: 6.6150 - accuracy: 0.9340 - val_loss: 23.7292 - val_accuracy: 0.8090\n",
            "Epoch 6/10\n",
            "32/32 [==============================] - 0s 3ms/step - loss: 4.2425 - accuracy: 0.9450 - val_loss: 20.1485 - val_accuracy: 0.8427\n",
            "Epoch 7/10\n",
            "32/32 [==============================] - 0s 3ms/step - loss: 4.6764 - accuracy: 0.9430 - val_loss: 20.1266 - val_accuracy: 0.8876\n",
            "Epoch 8/10\n",
            "32/32 [==============================] - 0s 3ms/step - loss: 2.4030 - accuracy: 0.9650 - val_loss: 14.1924 - val_accuracy: 0.8933\n",
            "Epoch 9/10\n",
            "32/32 [==============================] - 0s 3ms/step - loss: 1.5213 - accuracy: 0.9760 - val_loss: 16.6200 - val_accuracy: 0.8764\n",
            "Epoch 10/10\n",
            "32/32 [==============================] - 0s 3ms/step - loss: 2.2613 - accuracy: 0.9600 - val_loss: 22.1612 - val_accuracy: 0.8596\n"
          ]
        },
        {
          "output_type": "execute_result",
          "data": {
            "text/plain": [
              "<keras.callbacks.History at 0x7ff29ac91630>"
            ]
          },
          "metadata": {},
          "execution_count": 77
        }
      ]
    },
    {
      "cell_type": "code",
      "source": [
        "model.evaluate(x_test,y_test)"
      ],
      "metadata": {
        "colab": {
          "base_uri": "https://localhost:8080/"
        },
        "id": "wJn8WtYUEQiv",
        "outputId": "dcf59122-cc8a-42c6-c08d-4ff2ee6d96ef"
      },
      "execution_count": 78,
      "outputs": [
        {
          "output_type": "stream",
          "name": "stdout",
          "text": [
            "6/6 [==============================] - 0s 3ms/step - loss: 22.1612 - accuracy: 0.8596\n"
          ]
        },
        {
          "output_type": "execute_result",
          "data": {
            "text/plain": [
              "[22.161237716674805, 0.8595505356788635]"
            ]
          },
          "metadata": {},
          "execution_count": 78
        }
      ]
    },
    {
      "cell_type": "code",
      "source": [
        "x_train_scaled=x_train/255\n",
        "x_test_scaled=x_test/255\n",
        "model.fit(x_train_scaled, y_train,epochs= 10, validation_data=(x_test_scaled, y_test))"
      ],
      "metadata": {
        "colab": {
          "base_uri": "https://localhost:8080/"
        },
        "id": "hDPx6JQpDTJT",
        "outputId": "77b37edf-630a-4640-a1ac-02296453d136"
      },
      "execution_count": 79,
      "outputs": [
        {
          "output_type": "stream",
          "name": "stdout",
          "text": [
            "Epoch 1/10\n",
            "32/32 [==============================] - 0s 8ms/step - loss: 0.8415 - accuracy: 0.7980 - val_loss: 1.2137 - val_accuracy: 0.6011\n",
            "Epoch 2/10\n",
            "32/32 [==============================] - 0s 5ms/step - loss: 0.8865 - accuracy: 0.7560 - val_loss: 1.1320 - val_accuracy: 0.6404\n",
            "Epoch 3/10\n",
            "32/32 [==============================] - 0s 6ms/step - loss: 0.8122 - accuracy: 0.8160 - val_loss: 1.0571 - val_accuracy: 0.7360\n",
            "Epoch 4/10\n",
            "32/32 [==============================] - 0s 6ms/step - loss: 0.7562 - accuracy: 0.8750 - val_loss: 1.0055 - val_accuracy: 0.7697\n",
            "Epoch 5/10\n",
            "32/32 [==============================] - 0s 3ms/step - loss: 0.7183 - accuracy: 0.8990 - val_loss: 0.9664 - val_accuracy: 0.8034\n",
            "Epoch 6/10\n",
            "32/32 [==============================] - 0s 4ms/step - loss: 0.6892 - accuracy: 0.9280 - val_loss: 0.9398 - val_accuracy: 0.8315\n",
            "Epoch 7/10\n",
            "32/32 [==============================] - 0s 3ms/step - loss: 0.6688 - accuracy: 0.9540 - val_loss: 0.9170 - val_accuracy: 0.8427\n",
            "Epoch 8/10\n",
            "32/32 [==============================] - 0s 3ms/step - loss: 0.6524 - accuracy: 0.9640 - val_loss: 0.9025 - val_accuracy: 0.8427\n",
            "Epoch 9/10\n",
            "32/32 [==============================] - 0s 4ms/step - loss: 0.6399 - accuracy: 0.9750 - val_loss: 0.8883 - val_accuracy: 0.8539\n",
            "Epoch 10/10\n",
            "32/32 [==============================] - 0s 4ms/step - loss: 0.6293 - accuracy: 0.9810 - val_loss: 0.8786 - val_accuracy: 0.8539\n"
          ]
        },
        {
          "output_type": "execute_result",
          "data": {
            "text/plain": [
              "<keras.callbacks.History at 0x7ff29abb9630>"
            ]
          },
          "metadata": {},
          "execution_count": 79
        }
      ]
    },
    {
      "cell_type": "code",
      "source": [
        "model.evaluate(x_test_scaled,y_test)"
      ],
      "metadata": {
        "colab": {
          "base_uri": "https://localhost:8080/"
        },
        "id": "y2eSDETyD4cx",
        "outputId": "1792dc73-4c5b-4a64-837a-daae14009f0d"
      },
      "execution_count": 80,
      "outputs": [
        {
          "output_type": "stream",
          "name": "stdout",
          "text": [
            "6/6 [==============================] - 0s 2ms/step - loss: 0.8786 - accuracy: 0.8539\n"
          ]
        },
        {
          "output_type": "execute_result",
          "data": {
            "text/plain": [
              "[0.8786489367485046, 0.8539325594902039]"
            ]
          },
          "metadata": {},
          "execution_count": 80
        }
      ]
    },
    {
      "cell_type": "code",
      "source": [
        "y_predicted=model.predict(x_test_scaled)\n",
        "y_predicted_values=[]\n",
        "for i in y_predicted:\n",
        "  y_predicted_values.append(np.argmax(i))\n",
        "y_predicted_values"
      ],
      "metadata": {
        "id": "gRGe98uREhdc"
      },
      "execution_count": null,
      "outputs": []
    },
    {
      "cell_type": "code",
      "source": [
        "plt.matshow(x_test_scaled[20])\n",
        "print(y_predicted_values[20])\n"
      ],
      "metadata": {
        "colab": {
          "base_uri": "https://localhost:8080/",
          "height": 454
        },
        "id": "8DA_6TmcExCn",
        "outputId": "458b4bfa-c70a-483f-acf2-1127225f1359"
      },
      "execution_count": 82,
      "outputs": [
        {
          "output_type": "stream",
          "name": "stdout",
          "text": [
            "1\n"
          ]
        },
        {
          "output_type": "display_data",
          "data": {
            "text/plain": [
              "<Figure size 480x480 with 1 Axes>"
            ],
            "image/png": "[encoded data removed]"
          },
          "metadata": {}
        }
      ]
    },
    {
      "cell_type": "code",
      "source": [
        "confusion_matrix_sigmoid=tf.math.confusion_matrix(labels=y_test,predictions=y_predicted_values)\n",
        "confusion_matrix_sigmoid"
      ],
      "metadata": {
        "colab": {
          "base_uri": "https://localhost:8080/"
        },
        "id": "Tza4hBECFZfu",
        "outputId": "28252564-cdf0-4f55-8a31-630bf8ba0a3f"
      },
      "execution_count": 83,
      "outputs": [
        {
          "output_type": "execute_result",
          "data": {
            "text/plain": [
              "<tf.Tensor: shape=(10, 10), dtype=int32, numpy=\n",
              "array([[15,  1,  0,  0,  0,  0,  0,  0,  1,  1],\n",
              "       [ 0,  9,  0,  0,  0,  0,  0,  7,  0,  0],\n",
              "       [ 0,  0, 12,  0,  1,  1,  0,  1,  0,  2],\n",
              "       [ 0,  0,  3, 10,  0,  1,  1,  1,  0,  1],\n",
              "       [ 0,  0,  0,  0, 16,  1,  0,  1,  0,  0],\n",
              "       [ 0,  0,  0,  0,  0, 18,  0,  0,  0,  0],\n",
              "       [ 0,  0,  0,  0,  0,  0, 18,  0,  0,  0],\n",
              "       [ 0,  2,  0,  0,  0,  0,  0, 16,  0,  0],\n",
              "       [ 0,  0,  0,  0,  0,  0,  0,  0, 18,  0],\n",
              "       [ 0,  0,  0,  0,  0,  0,  0,  0,  0, 20]], dtype=int32)>"
            ]
          },
          "metadata": {},
          "execution_count": 83
        }
      ]
    },
    {
      "cell_type": "code",
      "source": [
        "print(classification_report(y_test,y_predicted_values))"
      ],
      "metadata": {
        "colab": {
          "base_uri": "https://localhost:8080/"
        },
        "id": "vZYXQNYFPJ2o",
        "outputId": "93e60991-fb4f-4491-cb67-4a41d83803e8"
      },
      "execution_count": 84,
      "outputs": [
        {
          "output_type": "stream",
          "name": "stdout",
          "text": [
            "              precision    recall  f1-score   support\n",
            "\n",
            "           0       1.00      0.83      0.91        18\n",
            "           1       0.75      0.56      0.64        16\n",
            "           2       0.80      0.71      0.75        17\n",
            "           3       1.00      0.59      0.74        17\n",
            "           4       0.94      0.89      0.91        18\n",
            "           5       0.86      1.00      0.92        18\n",
            "           6       0.95      1.00      0.97        18\n",
            "           7       0.62      0.89      0.73        18\n",
            "           8       0.95      1.00      0.97        18\n",
            "           9       0.83      1.00      0.91        20\n",
            "\n",
            "    accuracy                           0.85       178\n",
            "   macro avg       0.87      0.85      0.85       178\n",
            "weighted avg       0.87      0.85      0.85       178\n",
            "\n"
          ]
        }
      ]
    },
    {
      "cell_type": "code",
      "source": [
        "model_relu = keras.Sequential([\n",
        "keras.layers.Flatten(),\n",
        "keras.layers.Dense(1024,input_shape=(1024,), activation='relu'),\n",
        "keras.layers.Dense(10, activation='softmax')\n",
        "])\n",
        "model_relu.compile(optimizer='adam',\n",
        "loss='sparse_categorical_crossentropy',\n",
        "metrics=['accuracy']\n",
        ")\n",
        "history = model_relu.fit(x_train_scaled, y_train,epochs= 10, validation_data=(x_test_scaled, y_test))"
      ],
      "metadata": {
        "colab": {
          "base_uri": "https://localhost:8080/"
        },
        "id": "_f4-5K5FHGP5",
        "outputId": "2e8ef730-42b5-43cc-fdfa-b599c96c1845"
      },
      "execution_count": 85,
      "outputs": [
        {
          "output_type": "stream",
          "name": "stdout",
          "text": [
            "Epoch 1/10\n",
            "32/32 [==============================] - 2s 33ms/step - loss: 2.2528 - accuracy: 0.3810 - val_loss: 2.1956 - val_accuracy: 0.6517\n",
            "Epoch 2/10\n",
            "32/32 [==============================] - 0s 15ms/step - loss: 2.0627 - accuracy: 0.7870 - val_loss: 1.9771 - val_accuracy: 0.6854\n",
            "Epoch 3/10\n",
            "32/32 [==============================] - 1s 16ms/step - loss: 1.7343 - accuracy: 0.8380 - val_loss: 1.6569 - val_accuracy: 0.7865\n",
            "Epoch 4/10\n",
            "32/32 [==============================] - 1s 17ms/step - loss: 1.3433 - accuracy: 0.8560 - val_loss: 1.3402 - val_accuracy: 0.7978\n",
            "Epoch 5/10\n",
            "32/32 [==============================] - 1s 16ms/step - loss: 1.0143 - accuracy: 0.9140 - val_loss: 1.0851 - val_accuracy: 0.8427\n",
            "Epoch 6/10\n",
            "32/32 [==============================] - 1s 17ms/step - loss: 0.7782 - accuracy: 0.9200 - val_loss: 0.9070 - val_accuracy: 0.8596\n",
            "Epoch 7/10\n",
            "32/32 [==============================] - 0s 15ms/step - loss: 0.6082 - accuracy: 0.9280 - val_loss: 0.7751 - val_accuracy: 0.8315\n",
            "Epoch 8/10\n",
            "32/32 [==============================] - 1s 17ms/step - loss: 0.4928 - accuracy: 0.9420 - val_loss: 0.6660 - val_accuracy: 0.8652\n",
            "Epoch 9/10\n",
            "32/32 [==============================] - 0s 15ms/step - loss: 0.4172 - accuracy: 0.9440 - val_loss: 0.5861 - val_accuracy: 0.8820\n",
            "Epoch 10/10\n",
            "32/32 [==============================] - 1s 16ms/step - loss: 0.3545 - accuracy: 0.9490 - val_loss: 0.5323 - val_accuracy: 0.8933\n"
          ]
        }
      ]
    },
    {
      "cell_type": "code",
      "source": [
        "model_relu.evaluate(x_test_scaled,y_test)"
      ],
      "metadata": {
        "colab": {
          "base_uri": "https://localhost:8080/"
        },
        "id": "wnDY8xN0Ha8G",
        "outputId": "bd77eefe-6de3-4fce-86a2-20363c71edf0"
      },
      "execution_count": 86,
      "outputs": [
        {
          "output_type": "stream",
          "name": "stdout",
          "text": [
            "6/6 [==============================] - 0s 5ms/step - loss: 0.5323 - accuracy: 0.8933\n"
          ]
        },
        {
          "output_type": "execute_result",
          "data": {
            "text/plain": [
              "[0.532335102558136, 0.8932584524154663]"
            ]
          },
          "metadata": {},
          "execution_count": 86
        }
      ]
    },
    {
      "cell_type": "code",
      "source": [
        "y_predicted1=model_relu.predict(x_test_scaled)\n",
        "y_predicted1_values=[]\n",
        "for i in y_predicted:\n",
        "  y_predicted1_values.append(np.argmax(i))\n",
        "y_predicted1_values"
      ],
      "metadata": {
        "id": "a2qml1hBIJcG"
      },
      "execution_count": null,
      "outputs": []
    },
    {
      "cell_type": "code",
      "source": [
        "plt.matshow(x_test_scaled[50])\n",
        "print(y_predicted1_values[50])\n"
      ],
      "metadata": {
        "colab": {
          "base_uri": "https://localhost:8080/",
          "height": 454
        },
        "id": "KCPI1oIHKKg4",
        "outputId": "96cf1dc5-39a8-45af-e5be-6fb0ecd075fb"
      },
      "execution_count": 88,
      "outputs": [
        {
          "output_type": "stream",
          "name": "stdout",
          "text": [
            "2\n"
          ]
        },
        {
          "output_type": "display_data",
          "data": {
            "text/plain": [
              "<Figure size 480x480 with 1 Axes>"
            ],
            "image/png": "[encoded data removed]"
          },
          "metadata": {}
        }
      ]
    },
    {
      "cell_type": "code",
      "source": [
        "confusion_matrix_relu=tf.math.confusion_matrix(labels=y_test,predictions=y_predicted1_values)\n",
        "confusion_matrix_relu"
      ],
      "metadata": {
        "colab": {
          "base_uri": "https://localhost:8080/"
        },
        "id": "Zi0MRJrOKQt0",
        "outputId": "05017edd-ab65-44c7-fd4d-8b7658e48548"
      },
      "execution_count": 89,
      "outputs": [
        {
          "output_type": "execute_result",
          "data": {
            "text/plain": [
              "<tf.Tensor: shape=(10, 10), dtype=int32, numpy=\n",
              "array([[15,  1,  0,  0,  0,  0,  0,  0,  1,  1],\n",
              "       [ 0,  9,  0,  0,  0,  0,  0,  7,  0,  0],\n",
              "       [ 0,  0, 12,  0,  1,  1,  0,  1,  0,  2],\n",
              "       [ 0,  0,  3, 10,  0,  1,  1,  1,  0,  1],\n",
              "       [ 0,  0,  0,  0, 16,  1,  0,  1,  0,  0],\n",
              "       [ 0,  0,  0,  0,  0, 18,  0,  0,  0,  0],\n",
              "       [ 0,  0,  0,  0,  0,  0, 18,  0,  0,  0],\n",
              "       [ 0,  2,  0,  0,  0,  0,  0, 16,  0,  0],\n",
              "       [ 0,  0,  0,  0,  0,  0,  0,  0, 18,  0],\n",
              "       [ 0,  0,  0,  0,  0,  0,  0,  0,  0, 20]], dtype=int32)>"
            ]
          },
          "metadata": {},
          "execution_count": 89
        }
      ]
    },
    {
      "cell_type": "code",
      "source": [
        "print(classification_report(y_test,y_predicted1_values))"
      ],
      "metadata": {
        "colab": {
          "base_uri": "https://localhost:8080/"
        },
        "id": "yvHmnJlyO5yW",
        "outputId": "fdc9a93d-9407-4268-e190-6b225ed71457"
      },
      "execution_count": 90,
      "outputs": [
        {
          "output_type": "stream",
          "name": "stdout",
          "text": [
            "              precision    recall  f1-score   support\n",
            "\n",
            "           0       1.00      0.83      0.91        18\n",
            "           1       0.75      0.56      0.64        16\n",
            "           2       0.80      0.71      0.75        17\n",
            "           3       1.00      0.59      0.74        17\n",
            "           4       0.94      0.89      0.91        18\n",
            "           5       0.86      1.00      0.92        18\n",
            "           6       0.95      1.00      0.97        18\n",
            "           7       0.62      0.89      0.73        18\n",
            "           8       0.95      1.00      0.97        18\n",
            "           9       0.83      1.00      0.91        20\n",
            "\n",
            "    accuracy                           0.85       178\n",
            "   macro avg       0.87      0.85      0.85       178\n",
            "weighted avg       0.87      0.85      0.85       178\n",
            "\n"
          ]
        }
      ]
    }
  ],
  "metadata": {
    "kernelspec": {
      "display_name": "Python 3",
      "language": "python",
      "name": "python3"
    },
    "language_info": {
      "codemirror_mode": {
        "name": "ipython",
        "version": 3
      },
      "file_extension": ".py",
      "mimetype": "text/x-python",
      "name": "python",
      "nbconvert_exporter": "python",
      "pygments_lexer": "ipython3",
      "version": "3.8.5"
    },
    "colab": {
      "provenance": []
    }
  },
  "nbformat": 4,
  "nbformat_minor": 0
}